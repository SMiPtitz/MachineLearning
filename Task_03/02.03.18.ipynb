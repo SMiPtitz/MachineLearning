{
 "cells": [
  {
   "cell_type": "code",
   "execution_count": 2,
   "metadata": {
    "collapsed": true
   },
   "outputs": [],
   "source": [
    "import numpy as np\n",
    "import pandas as pd\n",
    "import scipy.stats as stats\n",
    "import matplotlib.pyplot as plt\n",
    "import math"
   ]
  },
  {
   "cell_type": "markdown",
   "metadata": {},
   "source": [
    "## Задача 1"
   ]
  },
  {
   "cell_type": "markdown",
   "metadata": {},
   "source": [
    "В примере ttest.py изменить уровень значимости. При уровне значимости alpha = 0.01 можем ли мы отклонить нулевую гипотезу H_0?\n",
    "H_0 = “Выборка получена из заданной генеральной совокупности”."
   ]
  },
  {
   "cell_type": "code",
   "execution_count": 3,
   "metadata": {},
   "outputs": [
    {
     "name": "stdout",
     "output_type": "stream",
     "text": [
      "43.0\n",
      "39.26\n"
     ]
    }
   ],
   "source": [
    "np.random.seed(6)\n",
    "\n",
    "#генерируются две выборки, распределенные по Пуассону\n",
    "\n",
    "#https://docs.scipy.org/doc/scipy/reference/generated/scipy.stats.poisson.html\n",
    "population_ages1 = stats.poisson.rvs(loc=18, mu=35, size=150000)\n",
    "population_ages2 = stats.poisson.rvs(loc=18, mu=10, size=100000)\n",
    "population_ages = np.concatenate((population_ages1, population_ages2))\n",
    "\n",
    "minnesota_ages1 = stats.poisson.rvs(loc=18, mu=30, size=30)\n",
    "minnesota_ages2 = stats.poisson.rvs(loc=18, mu=10, size=20)\n",
    "minnesota_ages = np.concatenate((minnesota_ages1, minnesota_ages2))\n",
    "\n",
    "#round(x, n)\n",
    "print(round(population_ages.mean(),2)) # генеральное среднее\n",
    "print(round(minnesota_ages.mean(),2)) # выборочное среднее"
   ]
  },
  {
   "cell_type": "code",
   "execution_count": 4,
   "metadata": {},
   "outputs": [
    {
     "name": "stdout",
     "output_type": "stream",
     "text": [
      "-2.57427148837 0.0131186854251\n"
     ]
    }
   ],
   "source": [
    "#одновыборочный t-критерий Стьюдента, используется, \n",
    "#когда известны параметры ГС,\n",
    "t_value, p_value = stats.ttest_1samp(a = minnesota_ages, \n",
    "                                     popmean = population_ages.mean()) \n",
    "#рассчитываем t-критерий\n",
    "print(t_value, p_value)"
   ]
  },
  {
   "cell_type": "code",
   "execution_count": 5,
   "metadata": {},
   "outputs": [
    {
     "name": "stdout",
     "output_type": "stream",
     "text": [
      "t-value (left) = -2.00958\n",
      "t-value (right) = 2.00958\n",
      "p-value = 0.013\n"
     ]
    }
   ],
   "source": [
    "#проверим, какая часть значений лежит вне нашего \n",
    "#доверительного интервала\n",
    "# при заданных уровне значимости alpha = 0.05 \n",
    "#и числе степеней свободы 49 (minnesota_ages - 1)\n",
    "\n",
    "t_value_left = stats.t.ppf(q=0.025,  # \"табличные\" значения t-статистики при заданном количестве степеней свободы и уровне значимости\n",
    "            df=49)  # число степеней свободы\n",
    "print(\"t-value (left) = %g\" %round(t_value_left,5))\n",
    "\n",
    "t_value_right = stats.t.ppf(q=0.975,  #\n",
    "            df=49)  # число степеней свободы\n",
    "print(\"t-value (right) = %g\" %round(t_value_right,5))\n",
    "\n",
    "p_val = stats.t.cdf(x= -2.5742,      # значение t-критерия, рассчитанное по эмпир.данным\n",
    "               df= 49) * 2   # т.к. двусторонний критерий\n",
    "print(\"p-value = %g\" %round(p_val,3))"
   ]
  },
  {
   "cell_type": "markdown",
   "metadata": {},
   "source": [
    "Изменим уровень значимости на 0,01"
   ]
  },
  {
   "cell_type": "code",
   "execution_count": 6,
   "metadata": {},
   "outputs": [
    {
     "name": "stdout",
     "output_type": "stream",
     "text": [
      "t-value (left) = -2.67995\n",
      "t-value (right) = 2.67995\n",
      "p-value = 0.013\n"
     ]
    }
   ],
   "source": [
    "t_value_left = stats.t.ppf(q=0.005,  # \"табличные\" значения t-статистики при заданном количестве степеней свободы и уровне значимости\n",
    "            df=49)  # число степеней свободы\n",
    "print(\"t-value (left) = %g\" %round(t_value_left,5))\n",
    "\n",
    "t_value_right = stats.t.ppf(q=0.995,  #\n",
    "            df=49)  # число степеней свободы\n",
    "print(\"t-value (right) = %g\" %round(t_value_right,5))\n",
    "\n",
    "p_val = stats.t.cdf(x= -2.5742,      # значение t-критерия, рассчитанное по эмпир.данным\n",
    "               df= 49) * 2   # т.к. двусторонний критерий\n",
    "print(\"p-value = %g\" %round(p_val,3))"
   ]
  },
  {
   "cell_type": "markdown",
   "metadata": {
    "collapsed": true
   },
   "source": [
    "При уровне значимости 0,01 мы не можем отклонить нулевую гипотезу."
   ]
  },
  {
   "cell_type": "markdown",
   "metadata": {},
   "source": [
    "## Задача 2"
   ]
  },
  {
   "cell_type": "markdown",
   "metadata": {},
   "source": [
    "Для примера о сроках госпитализации из лекции (С.Гланц, с.38) выполнить расчет t-критерия Стьюдента, не прибегая к встроенным функциям пакетов SciPy stats.ttest….\n",
    "Можно пользоваться встроенными функциями для расчета среднего, скв.отклонения, возведения в степень и т.п.\n",
    "Если Вы реализуете функции для расчета среднего, среднеквадратического отклонения и дисперсии самостоятельно, то получаете 1 дополнительный балл к лабораторной.\n"
   ]
  },
  {
   "cell_type": "markdown",
   "metadata": {},
   "source": [
    "Задача о сроках госпитализации:\n",
    "Средняя продоолжительность госпитализации 36\n",
    "больных пиелонефритом, получавших правильное (соответствующее\n",
    "официальным рекомендациям), составила 4,51 суток, а 36 больных,\n",
    "получавших неправильное лечение - 6,28 суток. Стандартные\n",
    "отклонения для этих групп - 1,98 и 2,54 суток соответственно.\n",
    "Cокращает ли правильное лечение срок госпитализации?"
   ]
  },
  {
   "cell_type": "markdown",
   "metadata": {},
   "source": [
    "Формула для расчета t-критерия Стьюдента:\n",
    "    $\\frac{\\overline{X_1} - \\overline{X_2}}{\\sqrt{\\frac{{s_1}^2}{n_1} + \\frac{{s_2}^2}{n_2}}}$"
   ]
  },
  {
   "cell_type": "code",
   "execution_count": 1,
   "metadata": {},
   "outputs": [
    {
     "name": "stdout",
     "output_type": "stream",
     "text": [
      "20\n",
      "20\n",
      "Среднее выборки а = 4.65 , Среднее выборки b = 7.45\n",
      "Стандартное отклонение выборки а = 1.84 , Стандартное отклонение выборки b = 2.7\n",
      "t-критерий Стьюдента =  3.83\n",
      "Число степеней свободы = 38\n"
     ]
    }
   ],
   "source": [
    "# выборки\n",
    "a = [7, 2, 3, 4, 4, 5, 5, 3, 5, 6, 4, 3, 3, 5, 5, 6, 8, 3, 3, 9]\n",
    "b = [6, 9, 8, 11, 6, 10, 9, 7, 4, 5, 7, 6, 7, 4, 12, 14, 5, 6, 5, 8]\n",
    "print(len(a))\n",
    "print(len(b))\n",
    "\n",
    "# среднее \n",
    "def mean_(x):\n",
    "    return round((sum(x) / len(x)), 2)\n",
    "\n",
    "print('Среднее выборки а =', mean_(a), ', Среднее выборки b =', mean_(b))\n",
    "\n",
    "# стандартное отклонение\n",
    "def st(x):\n",
    "    ss = sum((i - mean_(x))**2 for i in x)\n",
    "    sco = (ss / (len(x) - 1))** 0.5\n",
    "    return round(sco, 2)\n",
    "print('Стандартное отклонение выборки а =', st(a), ', Стандартное отклонение выборки b =', st(b))\n",
    "\n",
    "# t-критерий Стьюдента\n",
    "t = abs(mean_(a) - mean_(b)) / (st(a)**2 / len(a) + st(b)**2 / len(b))** 0.5\n",
    "print('t-критерий Стьюдента = ', round(t, 2))\n",
    "\n",
    "# число степеней свободы\n",
    "df = len(a) + len(b) - 2\n",
    "print('Число степеней свободы =', df)"
   ]
  },
  {
   "cell_type": "markdown",
   "metadata": {
    "collapsed": true
   },
   "source": [
    "Расчитанное значение t-критерия Стьюдента 3.83 больше, чем табличное значение t-критерия равное 2.024 (при р=0.05). Следовательно наблюдаемые различия статистически значимы и следует отклонить H0 гипотезу."
   ]
  },
  {
   "cell_type": "markdown",
   "metadata": {},
   "source": [
    "## Задача 4"
   ]
  },
  {
   "cell_type": "markdown",
   "metadata": {},
   "source": [
    "Используя встроенные функции пакетов SciPy, NumPy, \n",
    "а) сгенерировать выборку, распределенную нормально, проверить гипотезу о нормальности распределения с помощью критерия хи-квадрат\n",
    "б) для произвольной выборки проверить ее распределение по теоретическому закону (выбрать самостоятельно) с помощью критерия согласия Колмогорова-Смирнова.\n"
   ]
  },
  {
   "cell_type": "markdown",
   "metadata": {
    "collapsed": true
   },
   "source": [
    "4.а Проверка нормального распределения с помощью критерия хи-квадрат"
   ]
  },
  {
   "cell_type": "code",
   "execution_count": 37,
   "metadata": {},
   "outputs": [
    {
     "name": "stdout",
     "output_type": "stream",
     "text": [
      "mean = 5.33634667151 , std = 2.0627355549\n",
      "Chi_sqrt = 22.1522223006\n",
      "Доверительный интервал:  0.911708074707 ,  3.58224817594\n",
      "Отвергаем гипотезу Н0\n"
     ]
    }
   ],
   "source": [
    "# генерируем нормально распределенную выборку методом stats.norm из пакета scipy\n",
    "n = 100\n",
    "norm = stats.norm(loc=5, scale=2)\n",
    "data_norm = norm.rvs(size=n)\n",
    "\n",
    "# разделим выборку на k интервалов\n",
    "k = 6\n",
    "hist, bins = np.histogram(data_norm, k)\n",
    "dlt = bins[1] - bins[0]\n",
    "\n",
    "# рассчитаем среднее и стандартное отклонение методами пакета numpy\n",
    "m  = np.sum(data_norm) / n\n",
    "st = (np.sum(data_norm ** 2) / n - m ** 2) ** 0.5\n",
    "print('mean =', m, ', std =', st)\n",
    "\n",
    "# найдем ожидаемое число попаданий в каждый интервал\n",
    "def dist_n(y):\n",
    "    return 1 / np.sqrt(2 * np.pi) * np.exp(-y ** 2 / 2)\n",
    "\n",
    "Ej = list(map(lambda x: n * dist_n((x - m) / st) * dlt / st, bins[1:]))\n",
    "Ej = np.array(Ej)\n",
    "\n",
    "# вычислим критерий хи-квадрат\n",
    "chi = np.sum(np.divide((hist - Ej) ** 2, Ej))\n",
    "print('Chi_sqrt =', chi)\n",
    "\n",
    "# найдем доверительный интервал при уровне значимости 0,05\n",
    "alpha = 0.05\n",
    "d_right = stats.chi.ppf(1 - alpha * 0.5, k-1)\n",
    "d_left = stats.chi.ppf(alpha * 0.5, k-1)\n",
    "print('Доверительный интервал: ', d_left, ', ', d_right)\n",
    "\n",
    "# проверим гипотезу\n",
    "if chi > d_right:\n",
    "    print('Отвергаем гипотезу Н0')\n",
    "elif chi < d_left:\n",
    "    print('Нет оснований отвергнуть гипотезу Н0')\n",
    "else:\n",
    "    print('Гипотеза Н0 выполняется')"
   ]
  },
  {
   "cell_type": "markdown",
   "metadata": {},
   "source": [
    "4.b"
   ]
  },
  {
   "cell_type": "code",
   "execution_count": 24,
   "metadata": {},
   "outputs": [
    {
     "name": "stdout",
     "output_type": "stream",
     "text": [
      "lambda =  0.818437817691\n",
      "Не отвергаем гипотезу Н0\n"
     ]
    }
   ],
   "source": [
    "n = 100\n",
    "alpha = 0.05\n",
    "lambd_kr = 1.36 # для уровня значимости 0,05\n",
    "\n",
    "# генерируем первую выборку с равномерным распределением\n",
    "data = np.random.uniform(0, 1, n)\n",
    "d1 = np.sort(data)\n",
    "\n",
    "# генерируем вторую выборку с равномерным распределением\n",
    "d2 = np.arange(0, n)/100\n",
    "\n",
    "# вычисляем \n",
    "dist = np.abs(d1 - d2)\n",
    "D = np.max(dist)\n",
    "\n",
    "lambd = D * np.sqrt(n * n / (n + n))\n",
    "print('lambda = ', lambd)\n",
    "\n",
    "if lambd < lambd_kr:\n",
    "    print('Не отвергаем гипотезу Н0')\n",
    "else:\n",
    "    print('Отвергаем гипотезу Н0')\n"
   ]
  },
  {
   "cell_type": "code",
   "execution_count": null,
   "metadata": {
    "collapsed": true
   },
   "outputs": [],
   "source": []
  }
 ],
 "metadata": {
  "kernelspec": {
   "display_name": "Python 3",
   "language": "python",
   "name": "python3"
  },
  "language_info": {
   "codemirror_mode": {
    "name": "ipython",
    "version": 3
   },
   "file_extension": ".py",
   "mimetype": "text/x-python",
   "name": "python",
   "nbconvert_exporter": "python",
   "pygments_lexer": "ipython3",
   "version": "3.6.2"
  }
 },
 "nbformat": 4,
 "nbformat_minor": 2
}
